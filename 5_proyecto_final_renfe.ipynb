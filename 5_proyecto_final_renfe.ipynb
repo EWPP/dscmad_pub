{
 "cells": [
  {
   "cell_type": "markdown",
   "metadata": {},
   "source": [
    "![Nuclio logo](https://nuclio.school/wp-content/uploads/2018/12/nucleoDS-newBlack.png)\n",
    "\n",
    "# Proyecto final - Data Analytics y Business Intelligence\n",
    "\n",
    "Recibimos dos datasets:\n",
    "\n",
    "1. `renfe.csv`: Información de búsquedas de billetes que se ha extrajo de la página de Renfe.\n",
    "2. `coordenadas_ciudades.csv`: Latitud y longitud de provincias españolas.\n",
    "\n",
    "Queremos usar estos datasets para un modelo de Machine Learning que utilizaremos para predecir los precios de los billetes. Y, para ello, necesitamos limpiar, explorar y pre-procesar el dataset.\n",
    "\n",
    "## Reglas de juego\n",
    "\n",
    "1. El proyecto se debe entregar de manera individual. \n",
    "2. Cada respuesta correcta suma un punto.\n",
    "3. La calificación final consistirá en la suma de todos los puntos obtenidos sobre el total de puntos posibles.\n",
    "\n",
    "\n",
    "## Diccionario de datos\n",
    "\n",
    "Esta es la información provista:\n",
    "\n",
    "### `renfe.csv`\n",
    "- `FECHA_CONSULTA`: Fecha en la que se consultó la página.\n",
    "- `FECHA_INICIO`: Fecha de inicio del trayecto.\n",
    "- `FECHA_FIN`: Fecha de finalización del trayecto.\n",
    "- `CIUDAD_ORIGEN`: Ciudad de origen del trayecto.\n",
    "- `CIUDAD_DESTINO`: Ciudad destino del trayecto.\n",
    "- `TIPO_TREN`: Tipo de tren.\n",
    "- `TIPO_TARIFA`: Tipo de tarifa del billete.\n",
    "- `CLASE`: Clase del asiento seleccionado.\n",
    "- `PRECIO`: Precio del tren seleccionado.\n",
    "\n",
    "### `coordenadas_ciudades.csv`\n",
    "- `ciudad`: Nombre de la ciudad.\n",
    "- `latitud`: Coordenada de latitud de la ciudad.\n",
    "- `longitud`: Coordenada de longitud de la ciudad."
   ]
  },
  {
   "cell_type": "markdown",
   "metadata": {},
   "source": [
    "## Importar librerías"
   ]
  },
  {
   "cell_type": "code",
   "execution_count": 1,
   "metadata": {},
   "outputs": [],
   "source": [
    "import pandas as pd\n",
    "import numpy as np"
   ]
  },
  {
   "cell_type": "markdown",
   "metadata": {},
   "source": [
    "## P0: Lee el dataset `renfe.csv`"
   ]
  },
  {
   "cell_type": "code",
   "execution_count": 28,
   "metadata": {},
   "outputs": [],
   "source": [
    "df_renfe = pd.read_csv(\"data/renfe.csv\", sep = ';')\n",
    "df_coordenadas = pd.read_csv(\"data/coordenadas_ciudades.csv\")"
   ]
  },
  {
   "cell_type": "markdown",
   "metadata": {},
   "source": [
    "## P1: Visualiza las primeras y las últimas filas del dataset"
   ]
  },
  {
   "cell_type": "code",
   "execution_count": 29,
   "metadata": {},
   "outputs": [
    {
     "data": {
      "text/html": [
       "<div>\n",
       "<style scoped>\n",
       "    .dataframe tbody tr th:only-of-type {\n",
       "        vertical-align: middle;\n",
       "    }\n",
       "\n",
       "    .dataframe tbody tr th {\n",
       "        vertical-align: top;\n",
       "    }\n",
       "\n",
       "    .dataframe thead th {\n",
       "        text-align: right;\n",
       "    }\n",
       "</style>\n",
       "<table border=\"1\" class=\"dataframe\">\n",
       "  <thead>\n",
       "    <tr style=\"text-align: right;\">\n",
       "      <th></th>\n",
       "      <th>FECHA_CONSULTA</th>\n",
       "      <th>FECHA_INICIO</th>\n",
       "      <th>FECHA_FIN</th>\n",
       "      <th>CIUDAD_ORIGEN</th>\n",
       "      <th>CIUDAD_DESTINO</th>\n",
       "      <th>TIPO_TREN</th>\n",
       "      <th>TIPO_TARIFA</th>\n",
       "      <th>CLASE</th>\n",
       "      <th>PRECIO</th>\n",
       "    </tr>\n",
       "  </thead>\n",
       "  <tbody>\n",
       "    <tr>\n",
       "      <th>0</th>\n",
       "      <td>2019-05-25 01:43:03</td>\n",
       "      <td>2019-06-28 20:36:00</td>\n",
       "      <td>2019-06-28 23:14:00</td>\n",
       "      <td>SEVILLA</td>\n",
       "      <td>MADRID</td>\n",
       "      <td>ALVIA</td>\n",
       "      <td>Flexible</td>\n",
       "      <td>Turista</td>\n",
       "      <td>67.20</td>\n",
       "    </tr>\n",
       "    <tr>\n",
       "      <th>1</th>\n",
       "      <td>2019-06-22 13:05:11</td>\n",
       "      <td>2019-07-14 10:00:00</td>\n",
       "      <td>2019-07-14 13:10:00</td>\n",
       "      <td>BARCELONA</td>\n",
       "      <td>MADRID</td>\n",
       "      <td>AVE</td>\n",
       "      <td>Flexible</td>\n",
       "      <td>Turista</td>\n",
       "      <td>107.70</td>\n",
       "    </tr>\n",
       "    <tr>\n",
       "      <th>2</th>\n",
       "      <td>2019-04-17 06:24:03</td>\n",
       "      <td>2019-05-23 13:40:00</td>\n",
       "      <td>2019-05-23 16:10:00</td>\n",
       "      <td>SEVILLA</td>\n",
       "      <td>MADRID</td>\n",
       "      <td>AVE</td>\n",
       "      <td>Promo</td>\n",
       "      <td>Turista</td>\n",
       "      <td>47.30</td>\n",
       "    </tr>\n",
       "    <tr>\n",
       "      <th>3</th>\n",
       "      <td>2019-05-10 21:21:59</td>\n",
       "      <td>2019-05-29 14:50:00</td>\n",
       "      <td>2019-05-29 22:30:00</td>\n",
       "      <td>VALENCIA</td>\n",
       "      <td>MADRID</td>\n",
       "      <td>REGIONAL</td>\n",
       "      <td>Adulto ida</td>\n",
       "      <td>Turista</td>\n",
       "      <td>28.35</td>\n",
       "    </tr>\n",
       "    <tr>\n",
       "      <th>4</th>\n",
       "      <td>2019-05-09 19:43:37</td>\n",
       "      <td>2019-06-26 13:25:00</td>\n",
       "      <td>2019-06-26 16:24:00</td>\n",
       "      <td>MADRID</td>\n",
       "      <td>BARCELONA</td>\n",
       "      <td>AVE-TGV</td>\n",
       "      <td>Promo</td>\n",
       "      <td>Turista</td>\n",
       "      <td>66.75</td>\n",
       "    </tr>\n",
       "  </tbody>\n",
       "</table>\n",
       "</div>"
      ],
      "text/plain": [
       "        FECHA_CONSULTA         FECHA_INICIO            FECHA_FIN  \\\n",
       "0  2019-05-25 01:43:03  2019-06-28 20:36:00  2019-06-28 23:14:00   \n",
       "1  2019-06-22 13:05:11  2019-07-14 10:00:00  2019-07-14 13:10:00   \n",
       "2  2019-04-17 06:24:03  2019-05-23 13:40:00  2019-05-23 16:10:00   \n",
       "3  2019-05-10 21:21:59  2019-05-29 14:50:00  2019-05-29 22:30:00   \n",
       "4  2019-05-09 19:43:37  2019-06-26 13:25:00  2019-06-26 16:24:00   \n",
       "\n",
       "  CIUDAD_ORIGEN CIUDAD_DESTINO TIPO_TREN TIPO_TARIFA    CLASE  PRECIO  \n",
       "0       SEVILLA         MADRID     ALVIA    Flexible  Turista   67.20  \n",
       "1     BARCELONA         MADRID       AVE    Flexible  Turista  107.70  \n",
       "2       SEVILLA         MADRID       AVE       Promo  Turista   47.30  \n",
       "3      VALENCIA         MADRID  REGIONAL  Adulto ida  Turista   28.35  \n",
       "4        MADRID      BARCELONA   AVE-TGV       Promo  Turista   66.75  "
      ]
     },
     "execution_count": 29,
     "metadata": {},
     "output_type": "execute_result"
    }
   ],
   "source": [
    "df_primeras = df_renfe.head()\n",
    "df_primeras"
   ]
  },
  {
   "cell_type": "code",
   "execution_count": 30,
   "metadata": {},
   "outputs": [
    {
     "data": {
      "text/html": [
       "<div>\n",
       "<style scoped>\n",
       "    .dataframe tbody tr th:only-of-type {\n",
       "        vertical-align: middle;\n",
       "    }\n",
       "\n",
       "    .dataframe tbody tr th {\n",
       "        vertical-align: top;\n",
       "    }\n",
       "\n",
       "    .dataframe thead th {\n",
       "        text-align: right;\n",
       "    }\n",
       "</style>\n",
       "<table border=\"1\" class=\"dataframe\">\n",
       "  <thead>\n",
       "    <tr style=\"text-align: right;\">\n",
       "      <th></th>\n",
       "      <th>FECHA_CONSULTA</th>\n",
       "      <th>FECHA_INICIO</th>\n",
       "      <th>FECHA_FIN</th>\n",
       "      <th>CIUDAD_ORIGEN</th>\n",
       "      <th>CIUDAD_DESTINO</th>\n",
       "      <th>TIPO_TREN</th>\n",
       "      <th>TIPO_TARIFA</th>\n",
       "      <th>CLASE</th>\n",
       "      <th>PRECIO</th>\n",
       "    </tr>\n",
       "  </thead>\n",
       "  <tbody>\n",
       "    <tr>\n",
       "      <th>383563</th>\n",
       "      <td>2019-05-06 05:11:53</td>\n",
       "      <td>2019-05-10 19:40:00</td>\n",
       "      <td>2019-05-10 21:29:00</td>\n",
       "      <td>MADRID</td>\n",
       "      <td>VALENCIA</td>\n",
       "      <td>AVE</td>\n",
       "      <td>Flexible</td>\n",
       "      <td>Turista</td>\n",
       "      <td>73.10</td>\n",
       "    </tr>\n",
       "    <tr>\n",
       "      <th>383564</th>\n",
       "      <td>2019-06-19 21:48:56</td>\n",
       "      <td>2019-08-05 20:00:00</td>\n",
       "      <td>2019-08-05 23:10:00</td>\n",
       "      <td>BARCELONA</td>\n",
       "      <td>MADRID</td>\n",
       "      <td>AVE</td>\n",
       "      <td>Promo</td>\n",
       "      <td>Preferente</td>\n",
       "      <td>54.45</td>\n",
       "    </tr>\n",
       "    <tr>\n",
       "      <th>383565</th>\n",
       "      <td>2019-04-24 23:21:44</td>\n",
       "      <td>2019-04-29 16:15:00</td>\n",
       "      <td>2019-04-29 17:55:00</td>\n",
       "      <td>VALENCIA</td>\n",
       "      <td>MADRID</td>\n",
       "      <td>AVE</td>\n",
       "      <td>Promo</td>\n",
       "      <td>Turista</td>\n",
       "      <td>27.80</td>\n",
       "    </tr>\n",
       "    <tr>\n",
       "      <th>383566</th>\n",
       "      <td>2019-05-27 21:05:19</td>\n",
       "      <td>2019-07-07 15:00:00</td>\n",
       "      <td>2019-07-07 17:21:00</td>\n",
       "      <td>MADRID</td>\n",
       "      <td>SEVILLA</td>\n",
       "      <td>AVE</td>\n",
       "      <td>Promo</td>\n",
       "      <td>Turista</td>\n",
       "      <td>47.30</td>\n",
       "    </tr>\n",
       "    <tr>\n",
       "      <th>383567</th>\n",
       "      <td>2019-05-27 15:04:14</td>\n",
       "      <td>2019-06-16 18:35:00</td>\n",
       "      <td>2019-06-16 20:21:00</td>\n",
       "      <td>VALENCIA</td>\n",
       "      <td>MADRID</td>\n",
       "      <td>AVE</td>\n",
       "      <td>Flexible</td>\n",
       "      <td>Turista</td>\n",
       "      <td>73.10</td>\n",
       "    </tr>\n",
       "  </tbody>\n",
       "</table>\n",
       "</div>"
      ],
      "text/plain": [
       "             FECHA_CONSULTA         FECHA_INICIO            FECHA_FIN  \\\n",
       "383563  2019-05-06 05:11:53  2019-05-10 19:40:00  2019-05-10 21:29:00   \n",
       "383564  2019-06-19 21:48:56  2019-08-05 20:00:00  2019-08-05 23:10:00   \n",
       "383565  2019-04-24 23:21:44  2019-04-29 16:15:00  2019-04-29 17:55:00   \n",
       "383566  2019-05-27 21:05:19  2019-07-07 15:00:00  2019-07-07 17:21:00   \n",
       "383567  2019-05-27 15:04:14  2019-06-16 18:35:00  2019-06-16 20:21:00   \n",
       "\n",
       "       CIUDAD_ORIGEN CIUDAD_DESTINO TIPO_TREN TIPO_TARIFA       CLASE  PRECIO  \n",
       "383563        MADRID       VALENCIA       AVE    Flexible     Turista   73.10  \n",
       "383564     BARCELONA         MADRID       AVE       Promo  Preferente   54.45  \n",
       "383565      VALENCIA         MADRID       AVE       Promo     Turista   27.80  \n",
       "383566        MADRID        SEVILLA       AVE       Promo     Turista   47.30  \n",
       "383567      VALENCIA         MADRID       AVE    Flexible     Turista   73.10  "
      ]
     },
     "execution_count": 30,
     "metadata": {},
     "output_type": "execute_result"
    }
   ],
   "source": [
    "df_ultimas = df_renfe.tail(5)\n",
    "df_ultimas"
   ]
  },
  {
   "cell_type": "markdown",
   "metadata": {},
   "source": [
    "## P2: ¿Cuantas filas y columnas tiene el dataset?"
   ]
  },
  {
   "cell_type": "code",
   "execution_count": 31,
   "metadata": {},
   "outputs": [
    {
     "data": {
      "text/plain": [
       "(383568, 9)"
      ]
     },
     "execution_count": 31,
     "metadata": {},
     "output_type": "execute_result"
    }
   ],
   "source": [
    "df_renfe.shape"
   ]
  },
  {
   "cell_type": "markdown",
   "metadata": {},
   "source": [
    "## P3: Cambia los nombres de todas las columnas a minúsculas"
   ]
  },
  {
   "cell_type": "code",
   "execution_count": 34,
   "metadata": {},
   "outputs": [
    {
     "data": {
      "text/html": [
       "<div>\n",
       "<style scoped>\n",
       "    .dataframe tbody tr th:only-of-type {\n",
       "        vertical-align: middle;\n",
       "    }\n",
       "\n",
       "    .dataframe tbody tr th {\n",
       "        vertical-align: top;\n",
       "    }\n",
       "\n",
       "    .dataframe thead th {\n",
       "        text-align: right;\n",
       "    }\n",
       "</style>\n",
       "<table border=\"1\" class=\"dataframe\">\n",
       "  <thead>\n",
       "    <tr style=\"text-align: right;\">\n",
       "      <th></th>\n",
       "      <th>fecha_consulta</th>\n",
       "      <th>fecha_inicio</th>\n",
       "      <th>fecha_fin</th>\n",
       "      <th>ciudad_origen</th>\n",
       "      <th>ciudad_destino</th>\n",
       "      <th>tipo_tren</th>\n",
       "      <th>tipo_tarifa</th>\n",
       "      <th>clase</th>\n",
       "      <th>precio</th>\n",
       "    </tr>\n",
       "  </thead>\n",
       "  <tbody>\n",
       "    <tr>\n",
       "      <th>0</th>\n",
       "      <td>2019-05-25 01:43:03</td>\n",
       "      <td>2019-06-28 20:36:00</td>\n",
       "      <td>2019-06-28 23:14:00</td>\n",
       "      <td>SEVILLA</td>\n",
       "      <td>MADRID</td>\n",
       "      <td>ALVIA</td>\n",
       "      <td>Flexible</td>\n",
       "      <td>Turista</td>\n",
       "      <td>67.20</td>\n",
       "    </tr>\n",
       "    <tr>\n",
       "      <th>1</th>\n",
       "      <td>2019-06-22 13:05:11</td>\n",
       "      <td>2019-07-14 10:00:00</td>\n",
       "      <td>2019-07-14 13:10:00</td>\n",
       "      <td>BARCELONA</td>\n",
       "      <td>MADRID</td>\n",
       "      <td>AVE</td>\n",
       "      <td>Flexible</td>\n",
       "      <td>Turista</td>\n",
       "      <td>107.70</td>\n",
       "    </tr>\n",
       "    <tr>\n",
       "      <th>2</th>\n",
       "      <td>2019-04-17 06:24:03</td>\n",
       "      <td>2019-05-23 13:40:00</td>\n",
       "      <td>2019-05-23 16:10:00</td>\n",
       "      <td>SEVILLA</td>\n",
       "      <td>MADRID</td>\n",
       "      <td>AVE</td>\n",
       "      <td>Promo</td>\n",
       "      <td>Turista</td>\n",
       "      <td>47.30</td>\n",
       "    </tr>\n",
       "    <tr>\n",
       "      <th>3</th>\n",
       "      <td>2019-05-10 21:21:59</td>\n",
       "      <td>2019-05-29 14:50:00</td>\n",
       "      <td>2019-05-29 22:30:00</td>\n",
       "      <td>VALENCIA</td>\n",
       "      <td>MADRID</td>\n",
       "      <td>REGIONAL</td>\n",
       "      <td>Adulto ida</td>\n",
       "      <td>Turista</td>\n",
       "      <td>28.35</td>\n",
       "    </tr>\n",
       "    <tr>\n",
       "      <th>4</th>\n",
       "      <td>2019-05-09 19:43:37</td>\n",
       "      <td>2019-06-26 13:25:00</td>\n",
       "      <td>2019-06-26 16:24:00</td>\n",
       "      <td>MADRID</td>\n",
       "      <td>BARCELONA</td>\n",
       "      <td>AVE-TGV</td>\n",
       "      <td>Promo</td>\n",
       "      <td>Turista</td>\n",
       "      <td>66.75</td>\n",
       "    </tr>\n",
       "    <tr>\n",
       "      <th>...</th>\n",
       "      <td>...</td>\n",
       "      <td>...</td>\n",
       "      <td>...</td>\n",
       "      <td>...</td>\n",
       "      <td>...</td>\n",
       "      <td>...</td>\n",
       "      <td>...</td>\n",
       "      <td>...</td>\n",
       "      <td>...</td>\n",
       "    </tr>\n",
       "    <tr>\n",
       "      <th>383563</th>\n",
       "      <td>2019-05-06 05:11:53</td>\n",
       "      <td>2019-05-10 19:40:00</td>\n",
       "      <td>2019-05-10 21:29:00</td>\n",
       "      <td>MADRID</td>\n",
       "      <td>VALENCIA</td>\n",
       "      <td>AVE</td>\n",
       "      <td>Flexible</td>\n",
       "      <td>Turista</td>\n",
       "      <td>73.10</td>\n",
       "    </tr>\n",
       "    <tr>\n",
       "      <th>383564</th>\n",
       "      <td>2019-06-19 21:48:56</td>\n",
       "      <td>2019-08-05 20:00:00</td>\n",
       "      <td>2019-08-05 23:10:00</td>\n",
       "      <td>BARCELONA</td>\n",
       "      <td>MADRID</td>\n",
       "      <td>AVE</td>\n",
       "      <td>Promo</td>\n",
       "      <td>Preferente</td>\n",
       "      <td>54.45</td>\n",
       "    </tr>\n",
       "    <tr>\n",
       "      <th>383565</th>\n",
       "      <td>2019-04-24 23:21:44</td>\n",
       "      <td>2019-04-29 16:15:00</td>\n",
       "      <td>2019-04-29 17:55:00</td>\n",
       "      <td>VALENCIA</td>\n",
       "      <td>MADRID</td>\n",
       "      <td>AVE</td>\n",
       "      <td>Promo</td>\n",
       "      <td>Turista</td>\n",
       "      <td>27.80</td>\n",
       "    </tr>\n",
       "    <tr>\n",
       "      <th>383566</th>\n",
       "      <td>2019-05-27 21:05:19</td>\n",
       "      <td>2019-07-07 15:00:00</td>\n",
       "      <td>2019-07-07 17:21:00</td>\n",
       "      <td>MADRID</td>\n",
       "      <td>SEVILLA</td>\n",
       "      <td>AVE</td>\n",
       "      <td>Promo</td>\n",
       "      <td>Turista</td>\n",
       "      <td>47.30</td>\n",
       "    </tr>\n",
       "    <tr>\n",
       "      <th>383567</th>\n",
       "      <td>2019-05-27 15:04:14</td>\n",
       "      <td>2019-06-16 18:35:00</td>\n",
       "      <td>2019-06-16 20:21:00</td>\n",
       "      <td>VALENCIA</td>\n",
       "      <td>MADRID</td>\n",
       "      <td>AVE</td>\n",
       "      <td>Flexible</td>\n",
       "      <td>Turista</td>\n",
       "      <td>73.10</td>\n",
       "    </tr>\n",
       "  </tbody>\n",
       "</table>\n",
       "<p>383568 rows × 9 columns</p>\n",
       "</div>"
      ],
      "text/plain": [
       "             fecha_consulta         fecha_inicio            fecha_fin  \\\n",
       "0       2019-05-25 01:43:03  2019-06-28 20:36:00  2019-06-28 23:14:00   \n",
       "1       2019-06-22 13:05:11  2019-07-14 10:00:00  2019-07-14 13:10:00   \n",
       "2       2019-04-17 06:24:03  2019-05-23 13:40:00  2019-05-23 16:10:00   \n",
       "3       2019-05-10 21:21:59  2019-05-29 14:50:00  2019-05-29 22:30:00   \n",
       "4       2019-05-09 19:43:37  2019-06-26 13:25:00  2019-06-26 16:24:00   \n",
       "...                     ...                  ...                  ...   \n",
       "383563  2019-05-06 05:11:53  2019-05-10 19:40:00  2019-05-10 21:29:00   \n",
       "383564  2019-06-19 21:48:56  2019-08-05 20:00:00  2019-08-05 23:10:00   \n",
       "383565  2019-04-24 23:21:44  2019-04-29 16:15:00  2019-04-29 17:55:00   \n",
       "383566  2019-05-27 21:05:19  2019-07-07 15:00:00  2019-07-07 17:21:00   \n",
       "383567  2019-05-27 15:04:14  2019-06-16 18:35:00  2019-06-16 20:21:00   \n",
       "\n",
       "       ciudad_origen ciudad_destino tipo_tren tipo_tarifa       clase  precio  \n",
       "0            SEVILLA         MADRID     ALVIA    Flexible     Turista   67.20  \n",
       "1          BARCELONA         MADRID       AVE    Flexible     Turista  107.70  \n",
       "2            SEVILLA         MADRID       AVE       Promo     Turista   47.30  \n",
       "3           VALENCIA         MADRID  REGIONAL  Adulto ida     Turista   28.35  \n",
       "4             MADRID      BARCELONA   AVE-TGV       Promo     Turista   66.75  \n",
       "...              ...            ...       ...         ...         ...     ...  \n",
       "383563        MADRID       VALENCIA       AVE    Flexible     Turista   73.10  \n",
       "383564     BARCELONA         MADRID       AVE       Promo  Preferente   54.45  \n",
       "383565      VALENCIA         MADRID       AVE       Promo     Turista   27.80  \n",
       "383566        MADRID        SEVILLA       AVE       Promo     Turista   47.30  \n",
       "383567      VALENCIA         MADRID       AVE    Flexible     Turista   73.10  \n",
       "\n",
       "[383568 rows x 9 columns]"
      ]
     },
     "execution_count": 34,
     "metadata": {},
     "output_type": "execute_result"
    }
   ],
   "source": [
    "df_renfe.columns = df_renfe.columns.str.lower()\n",
    "df_renfe\n"
   ]
  },
  {
   "cell_type": "markdown",
   "metadata": {},
   "source": [
    "## P4: Muestra los tipos de datos de cada columna"
   ]
  },
  {
   "cell_type": "code",
   "execution_count": 45,
   "metadata": {},
   "outputs": [
    {
     "name": "stdout",
     "output_type": "stream",
     "text": [
      "<class 'pandas.core.frame.DataFrame'>\n",
      "RangeIndex: 383568 entries, 0 to 383567\n",
      "Data columns (total 9 columns):\n",
      " #   Column          Non-Null Count   Dtype  \n",
      "---  ------          --------------   -----  \n",
      " 0   fecha_consulta  383568 non-null  object \n",
      " 1   fecha_inicio    383568 non-null  object \n",
      " 2   fecha_fin       383568 non-null  object \n",
      " 3   ciudad_origen   383568 non-null  object \n",
      " 4   ciudad_destino  383568 non-null  object \n",
      " 5   tipo_tren       383568 non-null  object \n",
      " 6   tipo_tarifa     382225 non-null  object \n",
      " 7   clase           382225 non-null  object \n",
      " 8   precio          355038 non-null  float64\n",
      "dtypes: float64(1), object(8)\n",
      "memory usage: 26.3+ MB\n"
     ]
    }
   ],
   "source": [
    "df_renfe.info()"
   ]
  },
  {
   "cell_type": "markdown",
   "metadata": {},
   "source": [
    "## P5: Cambia los tipos de datos que creas que creas incorrectos, por los tipos adecuados"
   ]
  },
  {
   "cell_type": "code",
   "execution_count": 50,
   "metadata": {},
   "outputs": [
    {
     "data": {
      "text/plain": [
       "<bound method NDFrame.head of             fecha_consulta        fecha_inicio           fecha_fin  \\\n",
       "0      2019-05-25 01:43:03 2019-06-28 20:36:00 2019-06-28 23:14:00   \n",
       "1      2019-06-22 13:05:11 2019-07-14 10:00:00 2019-07-14 13:10:00   \n",
       "2      2019-04-17 06:24:03 2019-05-23 13:40:00 2019-05-23 16:10:00   \n",
       "3      2019-05-10 21:21:59 2019-05-29 14:50:00 2019-05-29 22:30:00   \n",
       "4      2019-05-09 19:43:37 2019-06-26 13:25:00 2019-06-26 16:24:00   \n",
       "...                    ...                 ...                 ...   \n",
       "383563 2019-05-06 05:11:53 2019-05-10 19:40:00 2019-05-10 21:29:00   \n",
       "383564 2019-06-19 21:48:56 2019-08-05 20:00:00 2019-08-05 23:10:00   \n",
       "383565 2019-04-24 23:21:44 2019-04-29 16:15:00 2019-04-29 17:55:00   \n",
       "383566 2019-05-27 21:05:19 2019-07-07 15:00:00 2019-07-07 17:21:00   \n",
       "383567 2019-05-27 15:04:14 2019-06-16 18:35:00 2019-06-16 20:21:00   \n",
       "\n",
       "       ciudad_origen ciudad_destino tipo_tren tipo_tarifa       clase  precio  \n",
       "0            SEVILLA         MADRID     ALVIA    Flexible     Turista   67.20  \n",
       "1          BARCELONA         MADRID       AVE    Flexible     Turista  107.70  \n",
       "2            SEVILLA         MADRID       AVE       Promo     Turista   47.30  \n",
       "3           VALENCIA         MADRID  REGIONAL  Adulto ida     Turista   28.35  \n",
       "4             MADRID      BARCELONA   AVE-TGV       Promo     Turista   66.75  \n",
       "...              ...            ...       ...         ...         ...     ...  \n",
       "383563        MADRID       VALENCIA       AVE    Flexible     Turista   73.10  \n",
       "383564     BARCELONA         MADRID       AVE       Promo  Preferente   54.45  \n",
       "383565      VALENCIA         MADRID       AVE       Promo     Turista   27.80  \n",
       "383566        MADRID        SEVILLA       AVE       Promo     Turista   47.30  \n",
       "383567      VALENCIA         MADRID       AVE    Flexible     Turista   73.10  \n",
       "\n",
       "[383568 rows x 9 columns]>"
      ]
     },
     "execution_count": 50,
     "metadata": {},
     "output_type": "execute_result"
    }
   ],
   "source": [
    "#df_renfe = df_renfe.infer_objects()\n",
    "df_renfe.iloc[:, 0:3] = df_renfe.iloc[:, 0:3].apply(pd.to_datetime, errors='coerce')\n",
    "#df_renfe[\"fecha_consulta_dc\",\"fecha_inicio_dc\",\"fecha_fin_dc\"] = pd.to_datetime(df_renfe[\"fecha_consulta\",\"fecha_inicio\",\"fecha_fin\"])\n",
    "df_renfe.head\n",
    "#df_renfe[fecha_consulta, fecha_inicio, fecha_fin]=pd.to_datetime([])"
   ]
  },
  {
   "cell_type": "markdown",
   "metadata": {},
   "source": [
    "## P6: Filas duplicadas"
   ]
  },
  {
   "cell_type": "markdown",
   "metadata": {},
   "source": [
    "### P6.1: ¿Cuántas filas duplicadas tiene el dataset?"
   ]
  },
  {
   "cell_type": "code",
   "execution_count": 51,
   "metadata": {},
   "outputs": [
    {
     "data": {
      "text/plain": [
       "((383568, 9), (383535, 9))"
      ]
     },
     "execution_count": 51,
     "metadata": {},
     "output_type": "execute_result"
    }
   ],
   "source": [
    "df_renfe.shape, df_renfe.drop_duplicates().shape\n"
   ]
  },
  {
   "cell_type": "markdown",
   "metadata": {},
   "source": [
    "### P6.2: Quita las filas duplicadas"
   ]
  },
  {
   "cell_type": "code",
   "execution_count": null,
   "metadata": {},
   "outputs": [],
   "source": [
    "df_renfe.drop_duplicates(inplace=True)"
   ]
  },
  {
   "cell_type": "markdown",
   "metadata": {},
   "source": [
    "## P7: Valores nulos y análisis de `precio`"
   ]
  },
  {
   "cell_type": "markdown",
   "metadata": {},
   "source": [
    "### P7.1: ¿Que porcentaje de valores nulos hay por cada columna?"
   ]
  },
  {
   "cell_type": "markdown",
   "metadata": {},
   "source": [
    "### P7.2: ¿Cual es el mínimo, percentiles importantes (25%, 50%, 75%) y el máximo de `precio`?"
   ]
  },
  {
   "cell_type": "markdown",
   "metadata": {},
   "source": [
    "### P7.3: ¿Hay algo raro en el valor mínimo de `precio`? Quita las filas con ese valor del dataset"
   ]
  },
  {
   "cell_type": "markdown",
   "metadata": {},
   "source": [
    "### P7.4: Reemplaza los valores nulos en `precio` por la media de esa columna"
   ]
  },
  {
   "cell_type": "markdown",
   "metadata": {},
   "source": [
    "### P7.5: Quita las filas donde `clase` o `tipo_tarifa` sean nulos"
   ]
  },
  {
   "cell_type": "markdown",
   "metadata": {},
   "source": [
    "## P8: Tiempo de viaje"
   ]
  },
  {
   "cell_type": "markdown",
   "metadata": {},
   "source": [
    "### P8.1: Calcula el tiempo de viaje en minutos (fecha_fin - fecha_inicio)"
   ]
  },
  {
   "cell_type": "markdown",
   "metadata": {},
   "source": [
    "### P8.2: Haz un histograma de la variable que acabas de crear (`tiempo_de_viaje`)"
   ]
  },
  {
   "cell_type": "markdown",
   "metadata": {},
   "source": [
    "## P9: Extrae el día, el nombre del día, el mes y la hora de `fecha_inicio`"
   ]
  },
  {
   "cell_type": "markdown",
   "metadata": {},
   "source": [
    "## P10: Quita las columnas `fecha_consulta`, `fecha_inicio` y `fecha_fin` del dataset"
   ]
  },
  {
   "cell_type": "markdown",
   "metadata": {},
   "source": [
    "## P11: Lee el dataset `coordenadas_ciudades.csv` y únelo con al dataset que has procesado hasta ahora (utiliza `ciudad_destino` para el `join`)"
   ]
  },
  {
   "cell_type": "markdown",
   "metadata": {},
   "source": [
    "## P12: Gráfica en un mapa el precio medio por ciudad de destino"
   ]
  },
  {
   "cell_type": "markdown",
   "metadata": {},
   "source": [
    "## P13: Haz una tabla de correlación, ¿hay variables númericas correladas con el precio?"
   ]
  },
  {
   "cell_type": "markdown",
   "metadata": {},
   "source": [
    "## P14: Relación entre variables del dataset y `precio`"
   ]
  },
  {
   "cell_type": "markdown",
   "metadata": {},
   "source": [
    "### P14.1: Haz un scatter plot de precio vs. tiempo de viaje"
   ]
  },
  {
   "cell_type": "markdown",
   "metadata": {},
   "source": [
    "### P14.2: Haz un boxplot de precio vs. dia de la semana"
   ]
  },
  {
   "cell_type": "markdown",
   "metadata": {},
   "source": [
    "### P14.3: Gráfica el precio medio por día de la semana"
   ]
  },
  {
   "cell_type": "markdown",
   "metadata": {},
   "source": [
    "## P15: Crea un nuevo dataframe donge apliques *one-hot-encoding* a las variables categoricas"
   ]
  }
 ],
 "metadata": {
  "interpreter": {
   "hash": "f95277ffa606a35557c638e3347ebf36a745f70f7d65299eb7247e0781680f94"
  },
  "kernelspec": {
   "display_name": "Python 3",
   "language": "python",
   "name": "python3"
  },
  "language_info": {
   "codemirror_mode": {
    "name": "ipython",
    "version": 3
   },
   "file_extension": ".py",
   "mimetype": "text/x-python",
   "name": "python",
   "nbconvert_exporter": "python",
   "pygments_lexer": "ipython3",
   "version": "3.8.8"
  }
 },
 "nbformat": 4,
 "nbformat_minor": 2
}
