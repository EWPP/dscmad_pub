{
 "cells": [
  {
   "cell_type": "code",
   "execution_count": 13,
   "metadata": {},
   "outputs": [],
   "source": [
    "import numpy as np\n",
    "import pandas as pd\n",
    "import re\n",
    "import requests\n",
    "import time\n",
    "from time import sleep\n",
    "from bs4 import BeautifulSoup\n",
    "from selenium import webdriver\n",
    "from selenium.webdriver.common.keys import Keys\n",
    "\n"
   ]
  },
  {
   "cell_type": "code",
   "execution_count": 14,
   "metadata": {},
   "outputs": [],
   "source": [
    "site_url = \"https://www.talabat.com/uae/restaurant/38475/shokuji-sushi-restaurant-jumeirah-1?aid=1244\"\n"
   ]
  },
  {
   "cell_type": "code",
   "execution_count": 15,
   "metadata": {},
   "outputs": [],
   "source": [
    "driver = webdriver.Chrome(r'C:\\Users\\epowo\\chromedriver\\chromedriver.exe')  \n"
   ]
  },
  {
   "cell_type": "code",
   "execution_count": 16,
   "metadata": {},
   "outputs": [],
   "source": [
    "driver.get(site_url)\n",
    "driver.maximize_window()\n",
    "final_df = pd.DataFrame()\n",
    "\n",
    "i=1\n",
    "while (i<301):\n",
    "    driver.find_element_by_tag_name('body').send_keys(Keys.END)\n",
    "    i = i+1\n",
    "    sleep(0.2)\n",
    "main_soup = BeautifulSoup(driver.page_source)"
   ]
  },
  {
   "cell_type": "code",
   "execution_count": 17,
   "metadata": {},
   "outputs": [],
   "source": [
    "soup = main_soup.findAll('div', attrs = {'class':'menu-itemstyles__MenuItemContainer-wyx6cl-0 cTKNep d-flex justify-content-between py-2 clickable'})"
   ]
  },
  {
   "cell_type": "code",
   "execution_count": 18,
   "metadata": {},
   "outputs": [
    {
     "data": {
      "text/plain": [
       "68"
      ]
     },
     "execution_count": 18,
     "metadata": {},
     "output_type": "execute_result"
    }
   ],
   "source": [
    "len(soup) "
   ]
  },
  {
   "cell_type": "code",
   "execution_count": 19,
   "metadata": {},
   "outputs": [
    {
     "data": {
      "text/plain": [
       "range(0, 68)"
      ]
     },
     "execution_count": 19,
     "metadata": {},
     "output_type": "execute_result"
    }
   ],
   "source": [
    "range(len(soup))"
   ]
  },
  {
   "cell_type": "code",
   "execution_count": 20,
   "metadata": {},
   "outputs": [],
   "source": [
    "dish = []\n",
    "description = []\n",
    "csymbol = []\n",
    "currency = []\n",
    "#img = []\n",
    "\n",
    "for i in range(len(soup)):\n",
    "    dish.append(soup[i].findAll('div', class_='f-15'))\n",
    "    description.append(soup[i].findAll('div', class_='f-12 description'))\n",
    "    csymbol.append(soup[i].findAll('span', class_='currency-symbol'))\n",
    "    currency.append(soup[i].findAll('span', class_='currency'))\n"
   ]
  },
  {
   "cell_type": "code",
   "execution_count": 21,
   "metadata": {},
   "outputs": [
    {
     "name": "stdout",
     "output_type": "stream",
     "text": [
      "[[<span class=\"currency\">10.00</span>], [<span class=\"currency\">25.00</span>], [<span class=\"currency\">40.00</span>], [<span class=\"currency\">35.00</span>], [<span class=\"currency\">32.00</span>], [<span class=\"currency\">40.00</span>], [<span class=\"currency\">45.00</span>], [<span class=\"currency\">40.00</span>], [<span class=\"currency\">45.00</span>], [<span class=\"currency\">60.00</span>], [<span class=\"currency\">60.00</span>], [<span class=\"currency\">65.00</span>], [<span class=\"currency\">60.00</span>], [<span class=\"currency\">50.00</span>], [<span class=\"currency\">55.00</span>], [<span class=\"currency\">65.00</span>], [<span class=\"currency\">40.00</span>], [<span class=\"currency\">45.00</span>], [<span class=\"currency\">65.00</span>], [<span class=\"currency\">55.00</span>], [<span class=\"currency\">50.00</span>], [<span class=\"currency\">60.00</span>], [<span class=\"currency\">65.00</span>], [<span class=\"currency\">55.00</span>], [<span class=\"currency\">55.00</span>], [<span class=\"currency\">55.00</span>], [<span class=\"currency\">50.00</span>], [<span class=\"currency\">55.00</span>], [<span class=\"currency\">60.00</span>], [<span class=\"currency\">45.00</span>], [<span class=\"currency\">55.00</span>], [<span class=\"currency\">55.00</span>], [<span class=\"currency\">55.00</span>], [<span class=\"currency\">50.00</span>], [<span class=\"currency\">60.00</span>], [<span class=\"currency\">130.00</span>], [<span class=\"currency\">60.00</span>], [<span class=\"currency\">12.00</span>], [<span class=\"currency\">12.00</span>], [<span class=\"currency\">12.00</span>], [<span class=\"currency\">12.00</span>], [<span class=\"currency\">12.00</span>], [<span class=\"currency\">15.00</span>], [<span class=\"currency\">15.00</span>], [<span class=\"currency\">15.00</span>], [<span class=\"currency\">70.00</span>], [<span class=\"currency\">70.00</span>], [<span class=\"currency\">50.00</span>], [<span class=\"currency\">50.00</span>], [<span class=\"currency\">50.00</span>], [<span class=\"currency\">35.00</span>], [<span class=\"currency\">30.00</span>], [<span class=\"currency\">20.00</span>], [<span class=\"currency\">30.00</span>], [<span class=\"currency\">45.00</span>], [<span class=\"currency\">45.00</span>], [<span class=\"currency\">45.00</span>], [<span class=\"currency\">25.00</span>], [<span class=\"currency\">25.00</span>], [<span class=\"currency\">25.00</span>], [<span class=\"currency\">25.00</span>], [<span class=\"currency\">25.00</span>], [<span class=\"currency\">23.00</span>], [<span class=\"currency\">7.00</span>], [<span class=\"currency\">7.00</span>], [<span class=\"currency\">7.00</span>], [<span class=\"currency\">7.00</span>], []]\n"
     ]
    }
   ],
   "source": [
    "print(currency)"
   ]
  },
  {
   "cell_type": "code",
   "execution_count": 22,
   "metadata": {},
   "outputs": [],
   "source": [
    "menu = pd.DataFrame({'Plato':dish, 'Descripcion':description, 'Moneda':csymbol, 'Importe':currency})"
   ]
  },
  {
   "cell_type": "code",
   "execution_count": 23,
   "metadata": {},
   "outputs": [
    {
     "name": "stdout",
     "output_type": "stream",
     "text": [
      "                      Plato  \\\n",
      "0             [[Miso Soup]]   \n",
      "1               [[Edamame]]   \n",
      "2   [[Crispy Fried Prawns]]   \n",
      "3       [[Chicken Karaage]]   \n",
      "4              [[Yakitori]]   \n",
      "..                      ...   \n",
      "63            [[Coca-Cola]]   \n",
      "64      [[Coca-Cola Light]]   \n",
      "65               [[Sprite]]   \n",
      "66                [[Fanta]]   \n",
      "67          [[Local Water]]   \n",
      "\n",
      "                                          Descripcion   Moneda    Importe  \n",
      "0       [[Served with tofu, scallions and seaweed. ]]  [[AED]]  [[10.00]]  \n",
      "1                                 [[Green soybeans ]]  [[AED]]  [[25.00]]  \n",
      "2   [[Crispy fried prawns coated with crispy tempu...  [[AED]]  [[40.00]]  \n",
      "3   [[Japanese fried chicken is made by marinating...  [[AED]]  [[35.00]]  \n",
      "4   [[Pieces of chicken meat, chicken offa and veg...  [[AED]]  [[32.00]]  \n",
      "..                                                ...      ...        ...  \n",
      "63                                               [[]]  [[AED]]   [[7.00]]  \n",
      "64                                               [[]]  [[AED]]   [[7.00]]  \n",
      "65                                               [[]]  [[AED]]   [[7.00]]  \n",
      "66                                               [[]]  [[AED]]   [[7.00]]  \n",
      "67                                               [[]]       []         []  \n",
      "\n",
      "[68 rows x 4 columns]\n"
     ]
    }
   ],
   "source": [
    "print(menu)"
   ]
  }
 ],
 "metadata": {
  "interpreter": {
   "hash": "76dee4a446f8da9993a092410cd7e5904de6884b7cfcb05c2c84497a87143dac"
  },
  "kernelspec": {
   "display_name": "Python 3.9.7 64-bit ('Nuclio2': conda)",
   "language": "python",
   "name": "python3"
  },
  "language_info": {
   "codemirror_mode": {
    "name": "ipython",
    "version": 3
   },
   "file_extension": ".py",
   "mimetype": "text/x-python",
   "name": "python",
   "nbconvert_exporter": "python",
   "pygments_lexer": "ipython3",
   "version": "3.9.7"
  },
  "orig_nbformat": 4
 },
 "nbformat": 4,
 "nbformat_minor": 2
}
